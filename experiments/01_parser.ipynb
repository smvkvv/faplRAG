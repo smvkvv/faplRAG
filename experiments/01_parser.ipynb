{
 "cells": [
  {
   "cell_type": "code",
   "execution_count": 195,
   "id": "d25e2ce5-faf3-4820-9723-b19a49949a36",
   "metadata": {},
   "outputs": [],
   "source": [
    "import re\n",
    "import requests\n",
    "import pendulum\n",
    "\n",
    "from pydantic import BaseModel\n",
    "from bs4 import BeautifulSoup\n",
    "from datetime import datetime, timedelta\n",
    "from dateutil.relativedelta import relativedelta"
   ]
  },
  {
   "cell_type": "code",
   "execution_count": 89,
   "id": "aab1dd23-f2f0-431a-903e-a73fa4cdceb7",
   "metadata": {},
   "outputs": [],
   "source": [
    "base_url = 'http://fapl.ru'"
   ]
  },
  {
   "cell_type": "code",
   "execution_count": 198,
   "id": "145e004d-76ed-4f9a-af3d-505d31c679c9",
   "metadata": {},
   "outputs": [],
   "source": [
    "def get_months_to_iterate() -> list[str]:\n",
    "    current_date = datetime.now()\n",
    "    n_months_to_iterate: int = 1\n",
    "    \n",
    "    months = []\n",
    "    for _ in range(n_months_to_iterate):\n",
    "        months.append(current_date.strftime(\"%Y/%m/\"))\n",
    "        current_date -= relativedelta(months=1)\n",
    "    \n",
    "    return months\n",
    "\n",
    "\n",
    "def get_soup_from_url(url: str) -> BeautifulSoup:\n",
    "    response = requests.get(url)\n",
    "    html = response.content.decode('windows-1251', errors='replace') \n",
    "    \n",
    "    return BeautifulSoup(html, 'html.parser')"
   ]
  },
  {
   "cell_type": "code",
   "execution_count": 184,
   "id": "299988ff-0e75-4307-ae7e-4e7e6b601543",
   "metadata": {},
   "outputs": [],
   "source": [
    "months = get_months_to_iterate()"
   ]
  },
  {
   "cell_type": "code",
   "execution_count": 193,
   "id": "7bd09edf-f1ab-4d30-b522-e01bd78b9d04",
   "metadata": {},
   "outputs": [],
   "source": [
    "def get_daily_posts_links(month: str) -> list[str]:\n",
    "    url = base_url + '/calendar/' + month\n",
    "\n",
    "    response = requests.get(url)\n",
    "    html = response.content.decode('windows-1251', errors='replace') \n",
    "    \n",
    "    soup = BeautifulSoup(html, 'html.parser')\n",
    "    \n",
    "    paragraphs = soup.findAll('p')\n",
    "    timestamp_pattern = re.compile(r\"^\\d{2}\\.\\d{2}\\.\\d{4}\")\n",
    "    \n",
    "    daily_posts_links = [\n",
    "        base_url + p.find('a')['href'] for p in paragraphs\n",
    "        if timestamp_pattern.match(p.text.split()[0].strip())\n",
    "        and p.find('a', href=True)\n",
    "    ]\n",
    "    \n",
    "    return daily_posts_links"
   ]
  },
  {
   "cell_type": "code",
   "execution_count": 172,
   "id": "623728b8-e8f7-4271-8ffc-66aee125756d",
   "metadata": {},
   "outputs": [],
   "source": [
    "from pydantic import BaseModel\n",
    "from datetime import datetime\n",
    "\n",
    "\n",
    "class Post(BaseModel):\n",
    "    uid: int\n",
    "    title: str\n",
    "    text_content: list[str]\n",
    "    tags: list[str]\n",
    "    n_visits: int\n",
    "    author: str\n",
    "    date: datetime\n",
    "\n",
    "\n",
    "def process_post(soup: BeautifulSoup, uid: int) -> Post:\n",
    "    block = soup.find('div', class_='block')\n",
    "\n",
    "    title = block.find('h2').text\n",
    "    text_content_list = [elem.text.strip() for elem in block.find('div', class_='content').findAll('p')]\n",
    "    tags = [elem.text for elem in block.find('p', class_='tags').findAll('a')]\n",
    "    \n",
    "    n_visits = int(re.findall(r'\\d+', block.find('p', class_='visits').text)[0])\n",
    "    author = block.find('p', class_='author').text.strip()\n",
    "    date = datetime.strptime(block.find('p', class_='date').text.strip(), '%d.%m.%Y %H:%M')\n",
    "\n",
    "    return Post(uid=uid,\n",
    "               title=title,\n",
    "               text_content=text_content_list,\n",
    "               tags=tags,\n",
    "               n_visits=n_visits,\n",
    "               author=author,\n",
    "               date=date)"
   ]
  },
  {
   "cell_type": "code",
   "execution_count": 196,
   "id": "8a4e2782-f2a9-46e9-a00a-ac027878774f",
   "metadata": {},
   "outputs": [
    {
     "name": "stderr",
     "output_type": "stream",
     "text": [
      "100%|████████████████████████████████████████████████████████████████████████████████████████████████████████████████████████████████████████████████████| 115/115 [00:50<00:00,  2.27it/s]\n"
     ]
    }
   ],
   "source": [
    "from tqdm import tqdm\n",
    "\n",
    "\n",
    "def get_posts() -> list[Post]:\n",
    "    months = get_months_to_iterate()\n",
    "    posts = []\n",
    "    \n",
    "    for month in months:\n",
    "        daily_posts_links = get_daily_posts_links(month)\n",
    "    \n",
    "        for post_url in tqdm(daily_posts_links):\n",
    "            uid = int(re.findall(r'\\d+', post_url)[0])\n",
    "            soup = get_soup_from_url(url=post_url)\n",
    "    \n",
    "            post = process_post(soup, uid)\n",
    "    \n",
    "            posts.append(post)\n",
    "            \n",
    "    return posts"
   ]
  },
  {
   "cell_type": "code",
   "execution_count": 211,
   "id": "abd69790-4701-4397-8078-9d604fdef793",
   "metadata": {},
   "outputs": [
    {
     "data": {
      "text/plain": [
       "{'uid': 112158,\n",
       " 'title': 'Невилл и Каррагер составили символические сборные первой половины сезона',\n",
       " 'text_content': ['Эксперты Sky Sports Гари Невилл и Джейми Каррагер составили по символической сборной первой половины этого сезона Премьер-Лиги.',\n",
       "  'Матч между \"Брентфордом\" и \"Арсеналом\" 1 января ознаменует экватор сезона Премьер-Лиги 2024/25, если не учитывать отложенное дерби между \"Эвертоном\" и \"Ливерпулем\".\\n\\r\\nУчитывая приближение этого рубежа, во время своего последнего эфира Невилл и Каррагер назвали по 11 игроков, которых они считают лучшими в первой половине этой кампании.\\n\\r\\nВ своих версиях Невилл и Каррагер разошлись только по трем игрокам из оборонительной линии. Гари предпочел Трента Александер-Арнольда, Вильяма Салиба и Йошко Гвардиола, Джейми — Олу Айну, Николу Миленковичу и Энтони Робинсона.'],\n",
       " 'tags': ['Каррагер', 'Невилл', 'Премьер-Лига'],\n",
       " 'n_visits': 4822,\n",
       " 'author': 'mihajlo',\n",
       " 'date': datetime.datetime(2025, 1, 1, 0, 5)}"
      ]
     },
     "execution_count": 211,
     "metadata": {},
     "output_type": "execute_result"
    }
   ],
   "source": [
    "posts[0].model_dump()"
   ]
  },
  {
   "cell_type": "code",
   "execution_count": null,
   "id": "2caead57-e863-4144-be53-295ac8652b70",
   "metadata": {},
   "outputs": [],
   "source": []
  },
  {
   "cell_type": "code",
   "execution_count": null,
   "id": "e9039947-833d-4665-b19a-8f13fbe4fd75",
   "metadata": {},
   "outputs": [],
   "source": []
  },
  {
   "cell_type": "code",
   "execution_count": null,
   "id": "410a6f84-0aa2-4e7a-b871-8926a76bfe18",
   "metadata": {},
   "outputs": [],
   "source": []
  }
 ],
 "metadata": {
  "kernelspec": {
   "display_name": "Python 3 (ipykernel)",
   "language": "python",
   "name": "python3"
  },
  "language_info": {
   "codemirror_mode": {
    "name": "ipython",
    "version": 3
   },
   "file_extension": ".py",
   "mimetype": "text/x-python",
   "name": "python",
   "nbconvert_exporter": "python",
   "pygments_lexer": "ipython3",
   "version": "3.10.13"
  }
 },
 "nbformat": 4,
 "nbformat_minor": 5
}
